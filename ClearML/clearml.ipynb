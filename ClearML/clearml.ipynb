{
 "cells": [
  {
   "cell_type": "code",
   "execution_count": 1,
   "id": "74446e9e",
   "metadata": {},
   "outputs": [],
   "source": [
    "# Importar a função Dataset do ClearML\n",
    "from clearml import Dataset"
   ]
  },
  {
   "cell_type": "code",
   "execution_count": 17,
   "id": "143bdebd",
   "metadata": {},
   "outputs": [
    {
     "name": "stdout",
     "output_type": "stream",
     "text": [
      "ClearML results page: http://localhost:8080/projects/e484853042ef463b921e88fcf76f3e26/experiments/f924aba5d37144fc8c210cc0f01f8e92/output/log\n",
      "ClearML dataset page: http://localhost:8080/datasets/simple/e484853042ef463b921e88fcf76f3e26/experiments/f924aba5d37144fc8c210cc0f01f8e92\n",
      "Dataset criado com ID: f924aba5d37144fc8c210cc0f01f8e92\n"
     ]
    }
   ],
   "source": [
    "# Criar um novo dataset\n",
    "dataset = Dataset.create(\n",
    "    dataset_name=\"dataset_prod\",\n",
    "    dataset_project=\"meu_projeto\",\n",
    "    description=\"Dataset com arquivos do MinIO local\",\n",
    "    output_uri=\"s3://localhost:9000/clearml\"  # Local em que será guardado os metadados do dataset\n",
    ")\n",
    "\n",
    "print(f\"Dataset criado com ID: {dataset.id}\")"
   ]
  },
  {
   "cell_type": "code",
   "execution_count": 18,
   "id": "657dbcb9",
   "metadata": {},
   "outputs": [
    {
     "name": "stdout",
     "output_type": "stream",
     "text": [
      "File compression and upload completed: total size 0 B, 0 chunk(s) stored (average size 0 B)\n"
     ]
    },
    {
     "data": {
      "text/plain": [
       "True"
      ]
     },
     "execution_count": 18,
     "metadata": {},
     "output_type": "execute_result"
    }
   ],
   "source": [
    "# Adicionar novos arquivos ao dataset\n",
    "\n",
    "dataset.add_external_files(\n",
    "    source_url=\"s3://localhost:9000/clearml\",  # Caminho no bucket MinIO\n",
    "    recursive=True,  # Incluir subdiretórios\n",
    "    verbose=True  # Mostrar logs\n",
    ")\n",
    "\n",
    "dataset.upload()\n",
    "\n",
    "dataset.finalize() # Finaliza o dataset"
   ]
  },
  {
   "cell_type": "code",
   "execution_count": 19,
   "id": "01e5f756",
   "metadata": {},
   "outputs": [
    {
     "name": "stdout",
     "output_type": "stream",
     "text": [
      "ClearML results page: http://localhost:8080/projects/e484853042ef463b921e88fcf76f3e26/experiments/9e7f856441ca4e84b64ee4ddb1a6b0ec/output/log\n",
      "ClearML dataset page: http://localhost:8080/datasets/simple/e484853042ef463b921e88fcf76f3e26/experiments/9e7f856441ca4e84b64ee4ddb1a6b0ec\n",
      "File compression and upload completed: total size 0 B, 0 chunk(s) stored (average size 0 B)\n"
     ]
    },
    {
     "data": {
      "text/plain": [
       "True"
      ]
     },
     "execution_count": 19,
     "metadata": {},
     "output_type": "execute_result"
    }
   ],
   "source": [
    "# Criando uma nova versão do dataset\n",
    "\n",
    "new_dataset = Dataset.create(\n",
    "    dataset_name=\"dataset_prod\",\n",
    "    dataset_project=\"meu_projeto\",\n",
    "    parent_datasets=[dataset.id],  # Vincula ao dataset original\n",
    "    description=\"Nova versão do dataset\",\n",
    "    output_uri=\"s3://localhost:9000/clearml\"  # Mesmo bucket, apenas referências\n",
    ")\n",
    "\n",
    "# Agora será realizado o upload de novos arquivos para verificar o comportamento no ClearML\n",
    "new_dataset.add_external_files(\n",
    "    source_url=\"s3://localhost:9000/clearml/teste\",  # Caminho no bucket MinIO\n",
    "    recursive=True,  # Incluir subdiretórios\n",
    "    verbose=True  # Mostrar logs\n",
    ")\n",
    "\n",
    "new_dataset.upload()\n",
    "\n",
    "new_dataset.finalize() # Finaliza o dataset"
   ]
  }
 ],
 "metadata": {
  "kernelspec": {
   "display_name": "venv",
   "language": "python",
   "name": "python3"
  },
  "language_info": {
   "codemirror_mode": {
    "name": "ipython",
    "version": 3
   },
   "file_extension": ".py",
   "mimetype": "text/x-python",
   "name": "python",
   "nbconvert_exporter": "python",
   "pygments_lexer": "ipython3",
   "version": "3.12.3"
  }
 },
 "nbformat": 4,
 "nbformat_minor": 5
}
